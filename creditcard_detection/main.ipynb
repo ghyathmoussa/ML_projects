{
  "nbformat": 4,
  "nbformat_minor": 0,
  "metadata": {
    "colab": {
      "provenance": []
    },
    "kernelspec": {
      "name": "python3",
      "display_name": "Python 3"
    },
    "language_info": {
      "name": "python"
    },
    "accelerator": "GPU"
  },
  "cells": [
    {
      "cell_type": "code",
      "execution_count": 1,
      "metadata": {
        "colab": {
          "base_uri": "https://localhost:8080/"
        },
        "id": "ys7nP8U-4ARe",
        "outputId": "f7c290ee-6d92-47fe-f906-5bc511e518de"
      },
      "outputs": [
        {
          "output_type": "stream",
          "name": "stdout",
          "text": [
            "Mounted at /content/drive\n"
          ]
        }
      ],
      "source": [
        "from google.colab import drive\n",
        "drive.mount('/content/drive')"
      ]
    },
    {
      "cell_type": "code",
      "source": [
        "import pandas as pd\n",
        "import numpy as np\n",
        "import matplotlib.pyplot as plt\n",
        "import seaborn as sns"
      ],
      "metadata": {
        "id": "QqyjdPVy5833"
      },
      "execution_count": 2,
      "outputs": []
    },
    {
      "cell_type": "code",
      "source": [
        "data = pd.read_csv('/content/drive/MyDrive/ML_projects/creditcard/creditcard.csv')\n",
        "data"
      ],
      "metadata": {
        "colab": {
          "base_uri": "https://localhost:8080/",
          "height": 488
        },
        "id": "kV0jixSo6UgZ",
        "outputId": "7918773b-1c4d-4f60-ae51-5f400c90b668"
      },
      "execution_count": 3,
      "outputs": [
        {
          "output_type": "execute_result",
          "data": {
            "text/plain": [
              "            Time         V1         V2        V3        V4        V5  \\\n",
              "0            0.0  -1.359807  -0.072781  2.536347  1.378155 -0.338321   \n",
              "1            0.0   1.191857   0.266151  0.166480  0.448154  0.060018   \n",
              "2            1.0  -1.358354  -1.340163  1.773209  0.379780 -0.503198   \n",
              "3            1.0  -0.966272  -0.185226  1.792993 -0.863291 -0.010309   \n",
              "4            2.0  -1.158233   0.877737  1.548718  0.403034 -0.407193   \n",
              "...          ...        ...        ...       ...       ...       ...   \n",
              "284802  172786.0 -11.881118  10.071785 -9.834783 -2.066656 -5.364473   \n",
              "284803  172787.0  -0.732789  -0.055080  2.035030 -0.738589  0.868229   \n",
              "284804  172788.0   1.919565  -0.301254 -3.249640 -0.557828  2.630515   \n",
              "284805  172788.0  -0.240440   0.530483  0.702510  0.689799 -0.377961   \n",
              "284806  172792.0  -0.533413  -0.189733  0.703337 -0.506271 -0.012546   \n",
              "\n",
              "              V6        V7        V8        V9  ...       V21       V22  \\\n",
              "0       0.462388  0.239599  0.098698  0.363787  ... -0.018307  0.277838   \n",
              "1      -0.082361 -0.078803  0.085102 -0.255425  ... -0.225775 -0.638672   \n",
              "2       1.800499  0.791461  0.247676 -1.514654  ...  0.247998  0.771679   \n",
              "3       1.247203  0.237609  0.377436 -1.387024  ... -0.108300  0.005274   \n",
              "4       0.095921  0.592941 -0.270533  0.817739  ... -0.009431  0.798278   \n",
              "...          ...       ...       ...       ...  ...       ...       ...   \n",
              "284802 -2.606837 -4.918215  7.305334  1.914428  ...  0.213454  0.111864   \n",
              "284803  1.058415  0.024330  0.294869  0.584800  ...  0.214205  0.924384   \n",
              "284804  3.031260 -0.296827  0.708417  0.432454  ...  0.232045  0.578229   \n",
              "284805  0.623708 -0.686180  0.679145  0.392087  ...  0.265245  0.800049   \n",
              "284806 -0.649617  1.577006 -0.414650  0.486180  ...  0.261057  0.643078   \n",
              "\n",
              "             V23       V24       V25       V26       V27       V28  Amount  \\\n",
              "0      -0.110474  0.066928  0.128539 -0.189115  0.133558 -0.021053  149.62   \n",
              "1       0.101288 -0.339846  0.167170  0.125895 -0.008983  0.014724    2.69   \n",
              "2       0.909412 -0.689281 -0.327642 -0.139097 -0.055353 -0.059752  378.66   \n",
              "3      -0.190321 -1.175575  0.647376 -0.221929  0.062723  0.061458  123.50   \n",
              "4      -0.137458  0.141267 -0.206010  0.502292  0.219422  0.215153   69.99   \n",
              "...          ...       ...       ...       ...       ...       ...     ...   \n",
              "284802  1.014480 -0.509348  1.436807  0.250034  0.943651  0.823731    0.77   \n",
              "284803  0.012463 -1.016226 -0.606624 -0.395255  0.068472 -0.053527   24.79   \n",
              "284804 -0.037501  0.640134  0.265745 -0.087371  0.004455 -0.026561   67.88   \n",
              "284805 -0.163298  0.123205 -0.569159  0.546668  0.108821  0.104533   10.00   \n",
              "284806  0.376777  0.008797 -0.473649 -0.818267 -0.002415  0.013649  217.00   \n",
              "\n",
              "        Class  \n",
              "0           0  \n",
              "1           0  \n",
              "2           0  \n",
              "3           0  \n",
              "4           0  \n",
              "...       ...  \n",
              "284802      0  \n",
              "284803      0  \n",
              "284804      0  \n",
              "284805      0  \n",
              "284806      0  \n",
              "\n",
              "[284807 rows x 31 columns]"
            ],
            "text/html": [
              "\n",
              "  <div id=\"df-43503f4f-4ef8-4366-8e0d-5820e0742f4b\">\n",
              "    <div class=\"colab-df-container\">\n",
              "      <div>\n",
              "<style scoped>\n",
              "    .dataframe tbody tr th:only-of-type {\n",
              "        vertical-align: middle;\n",
              "    }\n",
              "\n",
              "    .dataframe tbody tr th {\n",
              "        vertical-align: top;\n",
              "    }\n",
              "\n",
              "    .dataframe thead th {\n",
              "        text-align: right;\n",
              "    }\n",
              "</style>\n",
              "<table border=\"1\" class=\"dataframe\">\n",
              "  <thead>\n",
              "    <tr style=\"text-align: right;\">\n",
              "      <th></th>\n",
              "      <th>Time</th>\n",
              "      <th>V1</th>\n",
              "      <th>V2</th>\n",
              "      <th>V3</th>\n",
              "      <th>V4</th>\n",
              "      <th>V5</th>\n",
              "      <th>V6</th>\n",
              "      <th>V7</th>\n",
              "      <th>V8</th>\n",
              "      <th>V9</th>\n",
              "      <th>...</th>\n",
              "      <th>V21</th>\n",
              "      <th>V22</th>\n",
              "      <th>V23</th>\n",
              "      <th>V24</th>\n",
              "      <th>V25</th>\n",
              "      <th>V26</th>\n",
              "      <th>V27</th>\n",
              "      <th>V28</th>\n",
              "      <th>Amount</th>\n",
              "      <th>Class</th>\n",
              "    </tr>\n",
              "  </thead>\n",
              "  <tbody>\n",
              "    <tr>\n",
              "      <th>0</th>\n",
              "      <td>0.0</td>\n",
              "      <td>-1.359807</td>\n",
              "      <td>-0.072781</td>\n",
              "      <td>2.536347</td>\n",
              "      <td>1.378155</td>\n",
              "      <td>-0.338321</td>\n",
              "      <td>0.462388</td>\n",
              "      <td>0.239599</td>\n",
              "      <td>0.098698</td>\n",
              "      <td>0.363787</td>\n",
              "      <td>...</td>\n",
              "      <td>-0.018307</td>\n",
              "      <td>0.277838</td>\n",
              "      <td>-0.110474</td>\n",
              "      <td>0.066928</td>\n",
              "      <td>0.128539</td>\n",
              "      <td>-0.189115</td>\n",
              "      <td>0.133558</td>\n",
              "      <td>-0.021053</td>\n",
              "      <td>149.62</td>\n",
              "      <td>0</td>\n",
              "    </tr>\n",
              "    <tr>\n",
              "      <th>1</th>\n",
              "      <td>0.0</td>\n",
              "      <td>1.191857</td>\n",
              "      <td>0.266151</td>\n",
              "      <td>0.166480</td>\n",
              "      <td>0.448154</td>\n",
              "      <td>0.060018</td>\n",
              "      <td>-0.082361</td>\n",
              "      <td>-0.078803</td>\n",
              "      <td>0.085102</td>\n",
              "      <td>-0.255425</td>\n",
              "      <td>...</td>\n",
              "      <td>-0.225775</td>\n",
              "      <td>-0.638672</td>\n",
              "      <td>0.101288</td>\n",
              "      <td>-0.339846</td>\n",
              "      <td>0.167170</td>\n",
              "      <td>0.125895</td>\n",
              "      <td>-0.008983</td>\n",
              "      <td>0.014724</td>\n",
              "      <td>2.69</td>\n",
              "      <td>0</td>\n",
              "    </tr>\n",
              "    <tr>\n",
              "      <th>2</th>\n",
              "      <td>1.0</td>\n",
              "      <td>-1.358354</td>\n",
              "      <td>-1.340163</td>\n",
              "      <td>1.773209</td>\n",
              "      <td>0.379780</td>\n",
              "      <td>-0.503198</td>\n",
              "      <td>1.800499</td>\n",
              "      <td>0.791461</td>\n",
              "      <td>0.247676</td>\n",
              "      <td>-1.514654</td>\n",
              "      <td>...</td>\n",
              "      <td>0.247998</td>\n",
              "      <td>0.771679</td>\n",
              "      <td>0.909412</td>\n",
              "      <td>-0.689281</td>\n",
              "      <td>-0.327642</td>\n",
              "      <td>-0.139097</td>\n",
              "      <td>-0.055353</td>\n",
              "      <td>-0.059752</td>\n",
              "      <td>378.66</td>\n",
              "      <td>0</td>\n",
              "    </tr>\n",
              "    <tr>\n",
              "      <th>3</th>\n",
              "      <td>1.0</td>\n",
              "      <td>-0.966272</td>\n",
              "      <td>-0.185226</td>\n",
              "      <td>1.792993</td>\n",
              "      <td>-0.863291</td>\n",
              "      <td>-0.010309</td>\n",
              "      <td>1.247203</td>\n",
              "      <td>0.237609</td>\n",
              "      <td>0.377436</td>\n",
              "      <td>-1.387024</td>\n",
              "      <td>...</td>\n",
              "      <td>-0.108300</td>\n",
              "      <td>0.005274</td>\n",
              "      <td>-0.190321</td>\n",
              "      <td>-1.175575</td>\n",
              "      <td>0.647376</td>\n",
              "      <td>-0.221929</td>\n",
              "      <td>0.062723</td>\n",
              "      <td>0.061458</td>\n",
              "      <td>123.50</td>\n",
              "      <td>0</td>\n",
              "    </tr>\n",
              "    <tr>\n",
              "      <th>4</th>\n",
              "      <td>2.0</td>\n",
              "      <td>-1.158233</td>\n",
              "      <td>0.877737</td>\n",
              "      <td>1.548718</td>\n",
              "      <td>0.403034</td>\n",
              "      <td>-0.407193</td>\n",
              "      <td>0.095921</td>\n",
              "      <td>0.592941</td>\n",
              "      <td>-0.270533</td>\n",
              "      <td>0.817739</td>\n",
              "      <td>...</td>\n",
              "      <td>-0.009431</td>\n",
              "      <td>0.798278</td>\n",
              "      <td>-0.137458</td>\n",
              "      <td>0.141267</td>\n",
              "      <td>-0.206010</td>\n",
              "      <td>0.502292</td>\n",
              "      <td>0.219422</td>\n",
              "      <td>0.215153</td>\n",
              "      <td>69.99</td>\n",
              "      <td>0</td>\n",
              "    </tr>\n",
              "    <tr>\n",
              "      <th>...</th>\n",
              "      <td>...</td>\n",
              "      <td>...</td>\n",
              "      <td>...</td>\n",
              "      <td>...</td>\n",
              "      <td>...</td>\n",
              "      <td>...</td>\n",
              "      <td>...</td>\n",
              "      <td>...</td>\n",
              "      <td>...</td>\n",
              "      <td>...</td>\n",
              "      <td>...</td>\n",
              "      <td>...</td>\n",
              "      <td>...</td>\n",
              "      <td>...</td>\n",
              "      <td>...</td>\n",
              "      <td>...</td>\n",
              "      <td>...</td>\n",
              "      <td>...</td>\n",
              "      <td>...</td>\n",
              "      <td>...</td>\n",
              "      <td>...</td>\n",
              "    </tr>\n",
              "    <tr>\n",
              "      <th>284802</th>\n",
              "      <td>172786.0</td>\n",
              "      <td>-11.881118</td>\n",
              "      <td>10.071785</td>\n",
              "      <td>-9.834783</td>\n",
              "      <td>-2.066656</td>\n",
              "      <td>-5.364473</td>\n",
              "      <td>-2.606837</td>\n",
              "      <td>-4.918215</td>\n",
              "      <td>7.305334</td>\n",
              "      <td>1.914428</td>\n",
              "      <td>...</td>\n",
              "      <td>0.213454</td>\n",
              "      <td>0.111864</td>\n",
              "      <td>1.014480</td>\n",
              "      <td>-0.509348</td>\n",
              "      <td>1.436807</td>\n",
              "      <td>0.250034</td>\n",
              "      <td>0.943651</td>\n",
              "      <td>0.823731</td>\n",
              "      <td>0.77</td>\n",
              "      <td>0</td>\n",
              "    </tr>\n",
              "    <tr>\n",
              "      <th>284803</th>\n",
              "      <td>172787.0</td>\n",
              "      <td>-0.732789</td>\n",
              "      <td>-0.055080</td>\n",
              "      <td>2.035030</td>\n",
              "      <td>-0.738589</td>\n",
              "      <td>0.868229</td>\n",
              "      <td>1.058415</td>\n",
              "      <td>0.024330</td>\n",
              "      <td>0.294869</td>\n",
              "      <td>0.584800</td>\n",
              "      <td>...</td>\n",
              "      <td>0.214205</td>\n",
              "      <td>0.924384</td>\n",
              "      <td>0.012463</td>\n",
              "      <td>-1.016226</td>\n",
              "      <td>-0.606624</td>\n",
              "      <td>-0.395255</td>\n",
              "      <td>0.068472</td>\n",
              "      <td>-0.053527</td>\n",
              "      <td>24.79</td>\n",
              "      <td>0</td>\n",
              "    </tr>\n",
              "    <tr>\n",
              "      <th>284804</th>\n",
              "      <td>172788.0</td>\n",
              "      <td>1.919565</td>\n",
              "      <td>-0.301254</td>\n",
              "      <td>-3.249640</td>\n",
              "      <td>-0.557828</td>\n",
              "      <td>2.630515</td>\n",
              "      <td>3.031260</td>\n",
              "      <td>-0.296827</td>\n",
              "      <td>0.708417</td>\n",
              "      <td>0.432454</td>\n",
              "      <td>...</td>\n",
              "      <td>0.232045</td>\n",
              "      <td>0.578229</td>\n",
              "      <td>-0.037501</td>\n",
              "      <td>0.640134</td>\n",
              "      <td>0.265745</td>\n",
              "      <td>-0.087371</td>\n",
              "      <td>0.004455</td>\n",
              "      <td>-0.026561</td>\n",
              "      <td>67.88</td>\n",
              "      <td>0</td>\n",
              "    </tr>\n",
              "    <tr>\n",
              "      <th>284805</th>\n",
              "      <td>172788.0</td>\n",
              "      <td>-0.240440</td>\n",
              "      <td>0.530483</td>\n",
              "      <td>0.702510</td>\n",
              "      <td>0.689799</td>\n",
              "      <td>-0.377961</td>\n",
              "      <td>0.623708</td>\n",
              "      <td>-0.686180</td>\n",
              "      <td>0.679145</td>\n",
              "      <td>0.392087</td>\n",
              "      <td>...</td>\n",
              "      <td>0.265245</td>\n",
              "      <td>0.800049</td>\n",
              "      <td>-0.163298</td>\n",
              "      <td>0.123205</td>\n",
              "      <td>-0.569159</td>\n",
              "      <td>0.546668</td>\n",
              "      <td>0.108821</td>\n",
              "      <td>0.104533</td>\n",
              "      <td>10.00</td>\n",
              "      <td>0</td>\n",
              "    </tr>\n",
              "    <tr>\n",
              "      <th>284806</th>\n",
              "      <td>172792.0</td>\n",
              "      <td>-0.533413</td>\n",
              "      <td>-0.189733</td>\n",
              "      <td>0.703337</td>\n",
              "      <td>-0.506271</td>\n",
              "      <td>-0.012546</td>\n",
              "      <td>-0.649617</td>\n",
              "      <td>1.577006</td>\n",
              "      <td>-0.414650</td>\n",
              "      <td>0.486180</td>\n",
              "      <td>...</td>\n",
              "      <td>0.261057</td>\n",
              "      <td>0.643078</td>\n",
              "      <td>0.376777</td>\n",
              "      <td>0.008797</td>\n",
              "      <td>-0.473649</td>\n",
              "      <td>-0.818267</td>\n",
              "      <td>-0.002415</td>\n",
              "      <td>0.013649</td>\n",
              "      <td>217.00</td>\n",
              "      <td>0</td>\n",
              "    </tr>\n",
              "  </tbody>\n",
              "</table>\n",
              "<p>284807 rows × 31 columns</p>\n",
              "</div>\n",
              "      <button class=\"colab-df-convert\" onclick=\"convertToInteractive('df-43503f4f-4ef8-4366-8e0d-5820e0742f4b')\"\n",
              "              title=\"Convert this dataframe to an interactive table.\"\n",
              "              style=\"display:none;\">\n",
              "        \n",
              "  <svg xmlns=\"http://www.w3.org/2000/svg\" height=\"24px\"viewBox=\"0 0 24 24\"\n",
              "       width=\"24px\">\n",
              "    <path d=\"M0 0h24v24H0V0z\" fill=\"none\"/>\n",
              "    <path d=\"M18.56 5.44l.94 2.06.94-2.06 2.06-.94-2.06-.94-.94-2.06-.94 2.06-2.06.94zm-11 1L8.5 8.5l.94-2.06 2.06-.94-2.06-.94L8.5 2.5l-.94 2.06-2.06.94zm10 10l.94 2.06.94-2.06 2.06-.94-2.06-.94-.94-2.06-.94 2.06-2.06.94z\"/><path d=\"M17.41 7.96l-1.37-1.37c-.4-.4-.92-.59-1.43-.59-.52 0-1.04.2-1.43.59L10.3 9.45l-7.72 7.72c-.78.78-.78 2.05 0 2.83L4 21.41c.39.39.9.59 1.41.59.51 0 1.02-.2 1.41-.59l7.78-7.78 2.81-2.81c.8-.78.8-2.07 0-2.86zM5.41 20L4 18.59l7.72-7.72 1.47 1.35L5.41 20z\"/>\n",
              "  </svg>\n",
              "      </button>\n",
              "      \n",
              "  <style>\n",
              "    .colab-df-container {\n",
              "      display:flex;\n",
              "      flex-wrap:wrap;\n",
              "      gap: 12px;\n",
              "    }\n",
              "\n",
              "    .colab-df-convert {\n",
              "      background-color: #E8F0FE;\n",
              "      border: none;\n",
              "      border-radius: 50%;\n",
              "      cursor: pointer;\n",
              "      display: none;\n",
              "      fill: #1967D2;\n",
              "      height: 32px;\n",
              "      padding: 0 0 0 0;\n",
              "      width: 32px;\n",
              "    }\n",
              "\n",
              "    .colab-df-convert:hover {\n",
              "      background-color: #E2EBFA;\n",
              "      box-shadow: 0px 1px 2px rgba(60, 64, 67, 0.3), 0px 1px 3px 1px rgba(60, 64, 67, 0.15);\n",
              "      fill: #174EA6;\n",
              "    }\n",
              "\n",
              "    [theme=dark] .colab-df-convert {\n",
              "      background-color: #3B4455;\n",
              "      fill: #D2E3FC;\n",
              "    }\n",
              "\n",
              "    [theme=dark] .colab-df-convert:hover {\n",
              "      background-color: #434B5C;\n",
              "      box-shadow: 0px 1px 3px 1px rgba(0, 0, 0, 0.15);\n",
              "      filter: drop-shadow(0px 1px 2px rgba(0, 0, 0, 0.3));\n",
              "      fill: #FFFFFF;\n",
              "    }\n",
              "  </style>\n",
              "\n",
              "      <script>\n",
              "        const buttonEl =\n",
              "          document.querySelector('#df-43503f4f-4ef8-4366-8e0d-5820e0742f4b button.colab-df-convert');\n",
              "        buttonEl.style.display =\n",
              "          google.colab.kernel.accessAllowed ? 'block' : 'none';\n",
              "\n",
              "        async function convertToInteractive(key) {\n",
              "          const element = document.querySelector('#df-43503f4f-4ef8-4366-8e0d-5820e0742f4b');\n",
              "          const dataTable =\n",
              "            await google.colab.kernel.invokeFunction('convertToInteractive',\n",
              "                                                     [key], {});\n",
              "          if (!dataTable) return;\n",
              "\n",
              "          const docLinkHtml = 'Like what you see? Visit the ' +\n",
              "            '<a target=\"_blank\" href=https://colab.research.google.com/notebooks/data_table.ipynb>data table notebook</a>'\n",
              "            + ' to learn more about interactive tables.';\n",
              "          element.innerHTML = '';\n",
              "          dataTable['output_type'] = 'display_data';\n",
              "          await google.colab.output.renderOutput(dataTable, element);\n",
              "          const docLink = document.createElement('div');\n",
              "          docLink.innerHTML = docLinkHtml;\n",
              "          element.appendChild(docLink);\n",
              "        }\n",
              "      </script>\n",
              "    </div>\n",
              "  </div>\n",
              "  "
            ]
          },
          "metadata": {},
          "execution_count": 3
        }
      ]
    },
    {
      "cell_type": "code",
      "source": [
        "print(set(data['Class']))"
      ],
      "metadata": {
        "colab": {
          "base_uri": "https://localhost:8080/"
        },
        "id": "ZfneHgI7BWxT",
        "outputId": "40bfe101-9d05-440f-97ae-a96653a764ac"
      },
      "execution_count": 4,
      "outputs": [
        {
          "output_type": "stream",
          "name": "stdout",
          "text": [
            "{0, 1}\n"
          ]
        }
      ]
    },
    {
      "cell_type": "code",
      "source": [
        "## split the frouded data from main data\n",
        "froud = data[data['Class']==1]\n",
        "\n",
        "not_froud = data[data['Class']==0]\n",
        "\n",
        "# froud"
      ],
      "metadata": {
        "id": "F9WVff8gBjV_"
      },
      "execution_count": 5,
      "outputs": []
    },
    {
      "cell_type": "code",
      "source": [
        "froud['Amount'].describe()"
      ],
      "metadata": {
        "colab": {
          "base_uri": "https://localhost:8080/"
        },
        "id": "jC8fOyvnn-t_",
        "outputId": "e4cab2c5-4e3e-4c36-ce5d-1a0e47ab915f"
      },
      "execution_count": 6,
      "outputs": [
        {
          "output_type": "execute_result",
          "data": {
            "text/plain": [
              "count     492.000000\n",
              "mean      122.211321\n",
              "std       256.683288\n",
              "min         0.000000\n",
              "25%         1.000000\n",
              "50%         9.250000\n",
              "75%       105.890000\n",
              "max      2125.870000\n",
              "Name: Amount, dtype: float64"
            ]
          },
          "metadata": {},
          "execution_count": 6
        }
      ]
    },
    {
      "cell_type": "code",
      "source": [
        "not_froud['Amount'].describe()"
      ],
      "metadata": {
        "colab": {
          "base_uri": "https://localhost:8080/"
        },
        "id": "81fAH_bkoKtF",
        "outputId": "63b58ca7-5b5f-4394-eeef-5d92d0891f3e"
      },
      "execution_count": 7,
      "outputs": [
        {
          "output_type": "execute_result",
          "data": {
            "text/plain": [
              "count    284315.000000\n",
              "mean         88.291022\n",
              "std         250.105092\n",
              "min           0.000000\n",
              "25%           5.650000\n",
              "50%          22.000000\n",
              "75%          77.050000\n",
              "max       25691.160000\n",
              "Name: Amount, dtype: float64"
            ]
          },
          "metadata": {},
          "execution_count": 7
        }
      ]
    },
    {
      "cell_type": "code",
      "source": [
        "## drop unused columns\n",
        "data = data.drop(['Time'],axis=1)"
      ],
      "metadata": {
        "id": "m2hkZXMmoWrb"
      },
      "execution_count": 8,
      "outputs": []
    },
    {
      "cell_type": "markdown",
      "source": [
        "## Split data to train and test"
      ],
      "metadata": {
        "id": "Y5spr57ppyxg"
      }
    },
    {
      "cell_type": "code",
      "source": [
        "## scale Amount column\n",
        "from sklearn.preprocessing import StandardScaler\n",
        "sc = StandardScaler()\n",
        "\n",
        "data['Amount'] = sc.fit_transform(data['Amount'].values.reshape(-1,1))\n",
        "\n",
        "from sklearn.model_selection import train_test_split\n",
        "Y = data.iloc[:,29:].values\n",
        "X = data.iloc[:,:29].values\n",
        "x_train,x_test,y_train,y_test = train_test_split(X,Y,test_size=0.33,random_state=42)"
      ],
      "metadata": {
        "id": "c0B-jCU5ofU0"
      },
      "execution_count": 9,
      "outputs": []
    },
    {
      "cell_type": "code",
      "source": [],
      "metadata": {
        "id": "1DAoMiBkxaux"
      },
      "execution_count": 9,
      "outputs": []
    },
    {
      "cell_type": "code",
      "source": [
        "import tensorflow as tf\n",
        "from tensorflow.keras.layers import Dense,Input\n",
        "from tensorflow.keras import regularizers\n",
        "from tensorflow.keras.models import Model,load_model\n",
        "from tensorflow.keras.callbacks import ModelCheckpoint,TensorBoard"
      ],
      "metadata": {
        "id": "sRammzrspPZD"
      },
      "execution_count": 10,
      "outputs": []
    },
    {
      "cell_type": "code",
      "source": [
        "input_dim = x_train.shape[1]\n",
        "encoding_dim = 14"
      ],
      "metadata": {
        "id": "V7UGlSBRuQTF"
      },
      "execution_count": 11,
      "outputs": []
    },
    {
      "cell_type": "code",
      "source": [
        "input_layers = Input(shape=(input_dim,))\n",
        "\n",
        "encoder = Dense(encoding_dim,activation=\"tanh\",activity_regularizer=regularizers.l1(10e-5))(input_layers)\n",
        "encoder = Dense(int(encoding_dim/2),activation='relu')(encoder)\n",
        "\n",
        "decoder = Dense(int(encoding_dim/2),activation='tanh')(encoder)\n",
        "decoder = Dense(int(input_dim),activation='relu')(decoder)\n",
        "\n",
        "autoencoder = Model(inputs=input_layers,outputs=decoder)"
      ],
      "metadata": {
        "id": "0CNwUGiKvxLi"
      },
      "execution_count": 12,
      "outputs": []
    },
    {
      "cell_type": "code",
      "source": [
        "autoencoder.compile(optimizer='adam',loss='mean_squared_error')"
      ],
      "metadata": {
        "id": "s6Qj4CyGwQXx"
      },
      "execution_count": 13,
      "outputs": []
    },
    {
      "cell_type": "code",
      "source": [
        "checkpoint = ModelCheckpoint(filepath='model.h5',verbose=0,save_best_only=True)\n",
        "tensorboard = TensorBoard(log_dir='./logs',histogram_freq=0,write_graph=True,write_images=True)\n",
        "his = autoencoder.fit(x_train,y_train,epochs=100,batch_size=32,shuffle=True,validation_split=0.3,verbose=1,callbacks=[checkpoint,tensorboard])"
      ],
      "metadata": {
        "colab": {
          "base_uri": "https://localhost:8080/"
        },
        "id": "qOXnhXSeweT0",
        "outputId": "ce613b55-7349-4de0-8c35-0612063f0ffa"
      },
      "execution_count": 14,
      "outputs": [
        {
          "output_type": "stream",
          "name": "stdout",
          "text": [
            "Epoch 1/100\n",
            "4175/4175 [==============================] - 19s 4ms/step - loss: 0.0019 - val_loss: 0.0017\n",
            "Epoch 2/100\n",
            "4175/4175 [==============================] - 16s 4ms/step - loss: 0.0015 - val_loss: 0.0015\n",
            "Epoch 3/100\n",
            "4175/4175 [==============================] - 14s 3ms/step - loss: 0.0015 - val_loss: 0.0015\n",
            "Epoch 4/100\n",
            "4175/4175 [==============================] - 14s 3ms/step - loss: 0.0015 - val_loss: 0.0015\n",
            "Epoch 5/100\n",
            "4175/4175 [==============================] - 16s 4ms/step - loss: 0.0015 - val_loss: 0.0015\n",
            "Epoch 6/100\n",
            "4175/4175 [==============================] - 16s 4ms/step - loss: 0.0015 - val_loss: 0.0015\n",
            "Epoch 7/100\n",
            "4175/4175 [==============================] - 15s 3ms/step - loss: 0.0014 - val_loss: 0.0014\n",
            "Epoch 8/100\n",
            "4175/4175 [==============================] - 16s 4ms/step - loss: 0.0014 - val_loss: 0.0014\n",
            "Epoch 9/100\n",
            "4175/4175 [==============================] - 14s 3ms/step - loss: 0.0014 - val_loss: 0.0014\n",
            "Epoch 10/100\n",
            "4175/4175 [==============================] - 14s 3ms/step - loss: 0.0014 - val_loss: 0.0014\n",
            "Epoch 11/100\n",
            "4175/4175 [==============================] - 14s 3ms/step - loss: 0.0014 - val_loss: 0.0014\n",
            "Epoch 12/100\n",
            "4175/4175 [==============================] - 14s 3ms/step - loss: 0.0014 - val_loss: 0.0014\n",
            "Epoch 13/100\n",
            "4175/4175 [==============================] - 16s 4ms/step - loss: 0.0014 - val_loss: 0.0014\n",
            "Epoch 14/100\n",
            "4175/4175 [==============================] - 16s 4ms/step - loss: 0.0014 - val_loss: 0.0014\n",
            "Epoch 15/100\n",
            "4175/4175 [==============================] - 14s 3ms/step - loss: 0.0014 - val_loss: 0.0014\n",
            "Epoch 16/100\n",
            "4175/4175 [==============================] - 16s 4ms/step - loss: 0.0014 - val_loss: 0.0014\n",
            "Epoch 17/100\n",
            "4175/4175 [==============================] - 14s 3ms/step - loss: 0.0014 - val_loss: 0.0014\n",
            "Epoch 18/100\n",
            "4175/4175 [==============================] - 14s 3ms/step - loss: 0.0014 - val_loss: 0.0014\n",
            "Epoch 19/100\n",
            "4175/4175 [==============================] - 14s 3ms/step - loss: 0.0014 - val_loss: 0.0014\n",
            "Epoch 20/100\n",
            "4175/4175 [==============================] - 14s 3ms/step - loss: 0.0016 - val_loss: 0.0018\n",
            "Epoch 21/100\n",
            "4175/4175 [==============================] - 16s 4ms/step - loss: 0.0018 - val_loss: 0.0018\n",
            "Epoch 22/100\n",
            "4175/4175 [==============================] - 14s 3ms/step - loss: 0.0018 - val_loss: 0.0018\n",
            "Epoch 23/100\n",
            "4175/4175 [==============================] - 16s 4ms/step - loss: 0.0018 - val_loss: 0.0018\n",
            "Epoch 24/100\n",
            "4175/4175 [==============================] - 14s 3ms/step - loss: 0.0018 - val_loss: 0.0018\n",
            "Epoch 25/100\n",
            "4175/4175 [==============================] - 16s 4ms/step - loss: 0.0018 - val_loss: 0.0018\n",
            "Epoch 26/100\n",
            "4175/4175 [==============================] - 16s 4ms/step - loss: 0.0018 - val_loss: 0.0018\n",
            "Epoch 27/100\n",
            "4175/4175 [==============================] - 16s 4ms/step - loss: 0.0018 - val_loss: 0.0018\n",
            "Epoch 28/100\n",
            "4175/4175 [==============================] - 16s 4ms/step - loss: 0.0018 - val_loss: 0.0018\n",
            "Epoch 29/100\n",
            "4175/4175 [==============================] - 16s 4ms/step - loss: 0.0018 - val_loss: 0.0018\n",
            "Epoch 30/100\n",
            "4175/4175 [==============================] - 15s 3ms/step - loss: 0.0018 - val_loss: 0.0018\n",
            "Epoch 31/100\n",
            "4175/4175 [==============================] - 14s 3ms/step - loss: 0.0018 - val_loss: 0.0018\n",
            "Epoch 32/100\n",
            "4175/4175 [==============================] - 16s 4ms/step - loss: 0.0018 - val_loss: 0.0018\n",
            "Epoch 33/100\n",
            "4175/4175 [==============================] - 14s 3ms/step - loss: 0.0018 - val_loss: 0.0018\n",
            "Epoch 34/100\n",
            "4175/4175 [==============================] - 16s 4ms/step - loss: 0.0018 - val_loss: 0.0018\n",
            "Epoch 35/100\n",
            "4175/4175 [==============================] - 16s 4ms/step - loss: 0.0018 - val_loss: 0.0018\n",
            "Epoch 36/100\n",
            "4175/4175 [==============================] - 16s 4ms/step - loss: 0.0018 - val_loss: 0.0018\n",
            "Epoch 37/100\n",
            "4175/4175 [==============================] - 14s 3ms/step - loss: 0.0018 - val_loss: 0.0018\n",
            "Epoch 38/100\n",
            "4175/4175 [==============================] - 16s 4ms/step - loss: 0.0018 - val_loss: 0.0018\n",
            "Epoch 39/100\n",
            "4175/4175 [==============================] - 14s 3ms/step - loss: 0.0016 - val_loss: 0.0012\n",
            "Epoch 40/100\n",
            "4175/4175 [==============================] - 16s 4ms/step - loss: 0.0012 - val_loss: 0.0012\n",
            "Epoch 41/100\n",
            "4175/4175 [==============================] - 15s 3ms/step - loss: 0.0012 - val_loss: 0.0012\n",
            "Epoch 42/100\n",
            "4175/4175 [==============================] - 14s 3ms/step - loss: 0.0012 - val_loss: 0.0012\n",
            "Epoch 43/100\n",
            "4175/4175 [==============================] - 14s 3ms/step - loss: 0.0012 - val_loss: 0.0012\n",
            "Epoch 44/100\n",
            "4175/4175 [==============================] - 14s 3ms/step - loss: 0.0012 - val_loss: 0.0012\n",
            "Epoch 45/100\n",
            "4175/4175 [==============================] - 16s 4ms/step - loss: 0.0012 - val_loss: 0.0012\n",
            "Epoch 46/100\n",
            "4175/4175 [==============================] - 16s 4ms/step - loss: 0.0012 - val_loss: 0.0012\n",
            "Epoch 47/100\n",
            "4175/4175 [==============================] - 14s 3ms/step - loss: 0.0012 - val_loss: 0.0012\n",
            "Epoch 48/100\n",
            "4175/4175 [==============================] - 14s 3ms/step - loss: 0.0012 - val_loss: 0.0012\n",
            "Epoch 49/100\n",
            "4175/4175 [==============================] - 14s 3ms/step - loss: 0.0012 - val_loss: 0.0012\n",
            "Epoch 50/100\n",
            "4175/4175 [==============================] - 16s 4ms/step - loss: 0.0012 - val_loss: 0.0012\n",
            "Epoch 51/100\n",
            "4175/4175 [==============================] - 14s 3ms/step - loss: 0.0012 - val_loss: 0.0012\n",
            "Epoch 52/100\n",
            "4175/4175 [==============================] - 14s 3ms/step - loss: 0.0012 - val_loss: 0.0012\n",
            "Epoch 53/100\n",
            "4175/4175 [==============================] - 17s 4ms/step - loss: 0.0012 - val_loss: 0.0012\n",
            "Epoch 54/100\n",
            "4175/4175 [==============================] - 14s 3ms/step - loss: 0.0012 - val_loss: 0.0012\n",
            "Epoch 55/100\n",
            "4175/4175 [==============================] - 14s 3ms/step - loss: 0.0012 - val_loss: 0.0012\n",
            "Epoch 56/100\n",
            "4175/4175 [==============================] - 16s 4ms/step - loss: 0.0012 - val_loss: 0.0012\n",
            "Epoch 57/100\n",
            "4175/4175 [==============================] - 14s 3ms/step - loss: 0.0012 - val_loss: 0.0012\n",
            "Epoch 58/100\n",
            "4175/4175 [==============================] - 16s 4ms/step - loss: 0.0012 - val_loss: 0.0012\n",
            "Epoch 59/100\n",
            "4175/4175 [==============================] - 16s 4ms/step - loss: 0.0012 - val_loss: 0.0012\n",
            "Epoch 60/100\n",
            "4175/4175 [==============================] - 14s 3ms/step - loss: 0.0012 - val_loss: 0.0012\n",
            "Epoch 61/100\n",
            "4175/4175 [==============================] - 16s 4ms/step - loss: 0.0012 - val_loss: 0.0012\n",
            "Epoch 62/100\n",
            "4175/4175 [==============================] - 14s 3ms/step - loss: 0.0012 - val_loss: 0.0012\n",
            "Epoch 63/100\n",
            "4175/4175 [==============================] - 16s 4ms/step - loss: 0.0012 - val_loss: 0.0012\n",
            "Epoch 64/100\n",
            "4175/4175 [==============================] - 14s 3ms/step - loss: 0.0012 - val_loss: 0.0012\n",
            "Epoch 65/100\n",
            "4175/4175 [==============================] - 14s 3ms/step - loss: 0.0012 - val_loss: 0.0012\n",
            "Epoch 66/100\n",
            "4175/4175 [==============================] - 14s 3ms/step - loss: 0.0012 - val_loss: 0.0012\n",
            "Epoch 67/100\n",
            "4175/4175 [==============================] - 14s 3ms/step - loss: 0.0012 - val_loss: 0.0012\n",
            "Epoch 68/100\n",
            "4175/4175 [==============================] - 16s 4ms/step - loss: 0.0012 - val_loss: 0.0012\n",
            "Epoch 69/100\n",
            "4175/4175 [==============================] - 14s 3ms/step - loss: 0.0012 - val_loss: 0.0012\n",
            "Epoch 70/100\n",
            "4175/4175 [==============================] - 14s 3ms/step - loss: 0.0012 - val_loss: 0.0012\n",
            "Epoch 71/100\n",
            "4175/4175 [==============================] - 14s 3ms/step - loss: 0.0012 - val_loss: 0.0012\n",
            "Epoch 72/100\n",
            "4175/4175 [==============================] - 14s 3ms/step - loss: 0.0012 - val_loss: 0.0012\n",
            "Epoch 73/100\n",
            "4175/4175 [==============================] - 16s 4ms/step - loss: 0.0012 - val_loss: 0.0012\n",
            "Epoch 74/100\n",
            "4175/4175 [==============================] - 14s 3ms/step - loss: 0.0012 - val_loss: 0.0012\n",
            "Epoch 75/100\n",
            "4175/4175 [==============================] - 14s 3ms/step - loss: 0.0012 - val_loss: 0.0012\n",
            "Epoch 76/100\n",
            "4175/4175 [==============================] - 14s 3ms/step - loss: 0.0013 - val_loss: 0.0012\n",
            "Epoch 77/100\n",
            "4175/4175 [==============================] - 14s 3ms/step - loss: 0.0012 - val_loss: 0.0012\n",
            "Epoch 78/100\n",
            "4175/4175 [==============================] - 16s 4ms/step - loss: 0.0012 - val_loss: 0.0012\n",
            "Epoch 79/100\n",
            "4175/4175 [==============================] - 16s 4ms/step - loss: 0.0012 - val_loss: 0.0012\n",
            "Epoch 80/100\n",
            "4175/4175 [==============================] - 16s 4ms/step - loss: 0.0012 - val_loss: 0.0012\n",
            "Epoch 81/100\n",
            "4175/4175 [==============================] - 14s 3ms/step - loss: 0.0012 - val_loss: 0.0012\n",
            "Epoch 82/100\n",
            "4175/4175 [==============================] - 16s 4ms/step - loss: 0.0012 - val_loss: 0.0012\n",
            "Epoch 83/100\n",
            "4175/4175 [==============================] - 16s 4ms/step - loss: 0.0012 - val_loss: 0.0012\n",
            "Epoch 84/100\n",
            "4175/4175 [==============================] - 16s 4ms/step - loss: 0.0012 - val_loss: 0.0012\n",
            "Epoch 85/100\n",
            "4175/4175 [==============================] - 14s 3ms/step - loss: 0.0012 - val_loss: 0.0012\n",
            "Epoch 86/100\n",
            "4175/4175 [==============================] - 16s 4ms/step - loss: 0.0012 - val_loss: 0.0012\n",
            "Epoch 87/100\n",
            "4175/4175 [==============================] - 14s 3ms/step - loss: 0.0012 - val_loss: 0.0012\n",
            "Epoch 88/100\n",
            "4175/4175 [==============================] - 16s 4ms/step - loss: 0.0012 - val_loss: 0.0012\n",
            "Epoch 89/100\n",
            "4175/4175 [==============================] - 16s 4ms/step - loss: 0.0012 - val_loss: 0.0013\n",
            "Epoch 90/100\n",
            "4175/4175 [==============================] - 14s 3ms/step - loss: 0.0012 - val_loss: 0.0012\n",
            "Epoch 91/100\n",
            "4175/4175 [==============================] - 14s 3ms/step - loss: 0.0012 - val_loss: 0.0012\n",
            "Epoch 92/100\n",
            "4175/4175 [==============================] - 16s 4ms/step - loss: 0.0012 - val_loss: 0.0012\n",
            "Epoch 93/100\n",
            "4175/4175 [==============================] - 14s 3ms/step - loss: 0.0012 - val_loss: 0.0012\n",
            "Epoch 94/100\n",
            "4175/4175 [==============================] - 14s 3ms/step - loss: 0.0012 - val_loss: 0.0012\n",
            "Epoch 95/100\n",
            "4175/4175 [==============================] - 16s 4ms/step - loss: 0.0012 - val_loss: 0.0012\n",
            "Epoch 96/100\n",
            "4175/4175 [==============================] - 14s 3ms/step - loss: 0.0012 - val_loss: 0.0012\n",
            "Epoch 97/100\n",
            "4175/4175 [==============================] - 16s 4ms/step - loss: 0.0012 - val_loss: 0.0012\n",
            "Epoch 98/100\n",
            "4175/4175 [==============================] - 14s 3ms/step - loss: 0.0012 - val_loss: 0.0012\n",
            "Epoch 99/100\n",
            "4175/4175 [==============================] - 14s 3ms/step - loss: 0.0012 - val_loss: 0.0012\n",
            "Epoch 100/100\n",
            "4175/4175 [==============================] - 14s 3ms/step - loss: 0.0012 - val_loss: 0.0012\n"
          ]
        }
      ]
    },
    {
      "cell_type": "code",
      "source": [
        "plt.figure(figsize=(10,5))\n",
        "plt.plot(his.history['loss'],label='Training Loss')\n",
        "plt.plot(his.history['val_loss'],label='CV Loss')\n",
        "plt.grid()\n",
        "plt.legend()\n",
        "plt.show()"
      ],
      "metadata": {
        "colab": {
          "base_uri": "https://localhost:8080/",
          "height": 320
        },
        "id": "q_C-Xtm4w5y8",
        "outputId": "56579f26-1f4f-4725-d3c1-a1ee382272cd"
      },
      "execution_count": 15,
      "outputs": [
        {
          "output_type": "display_data",
          "data": {
            "text/plain": [
              "<Figure size 720x360 with 1 Axes>"
            ],
            "image/png": "[encoded data removed]"
          },
          "metadata": {
            "needs_background": "light"
          }
        }
      ]
    },
    {
      "cell_type": "code",
      "source": [
        "pred = autoencoder.predict(x_test)\n"
      ],
      "metadata": {
        "id": "DH5XTmYx4u0B",
        "outputId": "c3b6ddee-a0c5-473e-826e-9799d6d4402a",
        "colab": {
          "base_uri": "https://localhost:8080/"
        }
      },
      "execution_count": 16,
      "outputs": [
        {
          "output_type": "execute_result",
          "data": {
            "text/plain": [
              "array([[0.        , 0.63996154, 0.64582163, ..., 0.65841043, 0.6315965 ,\n",
              "        0.        ],\n",
              "       [0.        , 0.        , 0.        , ..., 0.        , 0.        ,\n",
              "        0.        ],\n",
              "       [0.        , 0.        , 0.        , ..., 0.        , 0.        ,\n",
              "        0.        ],\n",
              "       ...,\n",
              "       [0.        , 0.        , 0.        , ..., 0.        , 0.        ,\n",
              "        0.        ],\n",
              "       [0.        , 0.        , 0.        , ..., 0.        , 0.        ,\n",
              "        0.        ],\n",
              "       [0.        , 0.        , 0.        , ..., 0.        , 0.        ,\n",
              "        0.        ]], dtype=float32)"
            ]
          },
          "metadata": {},
          "execution_count": 16
        }
      ]
    },
    {
      "cell_type": "markdown",
      "source": [
        "## Evaluation"
      ],
      "metadata": {
        "id": "GuD0MfY10I-D"
      }
    },
    {
      "cell_type": "code",
      "source": [
        "mse = np.mean(np.power(x_test-pred,2),axis=1)\n",
        "err_df = pd.DataFrame({'error':mse,'true_values':y_test.flatten()})\n"
      ],
      "metadata": {
        "id": "-v7p_-8Y0CGi",
        "outputId": "59080fc1-6f8a-4362-f839-87401c8e565a",
        "colab": {
          "base_uri": "https://localhost:8080/",
          "height": 424
        }
      },
      "execution_count": 37,
      "outputs": [
        {
          "output_type": "execute_result",
          "data": {
            "text/plain": [
              "       error  true_values\n",
              "0       85.0            1\n",
              "1        1.0            0\n",
              "2        0.0            0\n",
              "3        1.0            0\n",
              "4        0.0            0\n",
              "...      ...          ...\n",
              "93982    1.0            0\n",
              "93983    0.0            0\n",
              "93984    1.0            0\n",
              "93985    0.0            0\n",
              "93986    0.0            0\n",
              "\n",
              "[93987 rows x 2 columns]"
            ],
            "text/html": [
              "\n",
              "  <div id=\"df-fe65dee6-b9e2-4702-9305-4b5fc13314b9\">\n",
              "    <div class=\"colab-df-container\">\n",
              "      <div>\n",
              "<style scoped>\n",
              "    .dataframe tbody tr th:only-of-type {\n",
              "        vertical-align: middle;\n",
              "    }\n",
              "\n",
              "    .dataframe tbody tr th {\n",
              "        vertical-align: top;\n",
              "    }\n",
              "\n",
              "    .dataframe thead th {\n",
              "        text-align: right;\n",
              "    }\n",
              "</style>\n",
              "<table border=\"1\" class=\"dataframe\">\n",
              "  <thead>\n",
              "    <tr style=\"text-align: right;\">\n",
              "      <th></th>\n",
              "      <th>error</th>\n",
              "      <th>true_values</th>\n",
              "    </tr>\n",
              "  </thead>\n",
              "  <tbody>\n",
              "    <tr>\n",
              "      <th>0</th>\n",
              "      <td>85.0</td>\n",
              "      <td>1</td>\n",
              "    </tr>\n",
              "    <tr>\n",
              "      <th>1</th>\n",
              "      <td>1.0</td>\n",
              "      <td>0</td>\n",
              "    </tr>\n",
              "    <tr>\n",
              "      <th>2</th>\n",
              "      <td>0.0</td>\n",
              "      <td>0</td>\n",
              "    </tr>\n",
              "    <tr>\n",
              "      <th>3</th>\n",
              "      <td>1.0</td>\n",
              "      <td>0</td>\n",
              "    </tr>\n",
              "    <tr>\n",
              "      <th>4</th>\n",
              "      <td>0.0</td>\n",
              "      <td>0</td>\n",
              "    </tr>\n",
              "    <tr>\n",
              "      <th>...</th>\n",
              "      <td>...</td>\n",
              "      <td>...</td>\n",
              "    </tr>\n",
              "    <tr>\n",
              "      <th>93982</th>\n",
              "      <td>1.0</td>\n",
              "      <td>0</td>\n",
              "    </tr>\n",
              "    <tr>\n",
              "      <th>93983</th>\n",
              "      <td>0.0</td>\n",
              "      <td>0</td>\n",
              "    </tr>\n",
              "    <tr>\n",
              "      <th>93984</th>\n",
              "      <td>1.0</td>\n",
              "      <td>0</td>\n",
              "    </tr>\n",
              "    <tr>\n",
              "      <th>93985</th>\n",
              "      <td>0.0</td>\n",
              "      <td>0</td>\n",
              "    </tr>\n",
              "    <tr>\n",
              "      <th>93986</th>\n",
              "      <td>0.0</td>\n",
              "      <td>0</td>\n",
              "    </tr>\n",
              "  </tbody>\n",
              "</table>\n",
              "<p>93987 rows × 2 columns</p>\n",
              "</div>\n",
              "      <button class=\"colab-df-convert\" onclick=\"convertToInteractive('df-fe65dee6-b9e2-4702-9305-4b5fc13314b9')\"\n",
              "              title=\"Convert this dataframe to an interactive table.\"\n",
              "              style=\"display:none;\">\n",
              "        \n",
              "  <svg xmlns=\"http://www.w3.org/2000/svg\" height=\"24px\"viewBox=\"0 0 24 24\"\n",
              "       width=\"24px\">\n",
              "    <path d=\"M0 0h24v24H0V0z\" fill=\"none\"/>\n",
              "    <path d=\"M18.56 5.44l.94 2.06.94-2.06 2.06-.94-2.06-.94-.94-2.06-.94 2.06-2.06.94zm-11 1L8.5 8.5l.94-2.06 2.06-.94-2.06-.94L8.5 2.5l-.94 2.06-2.06.94zm10 10l.94 2.06.94-2.06 2.06-.94-2.06-.94-.94-2.06-.94 2.06-2.06.94z\"/><path d=\"M17.41 7.96l-1.37-1.37c-.4-.4-.92-.59-1.43-.59-.52 0-1.04.2-1.43.59L10.3 9.45l-7.72 7.72c-.78.78-.78 2.05 0 2.83L4 21.41c.39.39.9.59 1.41.59.51 0 1.02-.2 1.41-.59l7.78-7.78 2.81-2.81c.8-.78.8-2.07 0-2.86zM5.41 20L4 18.59l7.72-7.72 1.47 1.35L5.41 20z\"/>\n",
              "  </svg>\n",
              "      </button>\n",
              "      \n",
              "  <style>\n",
              "    .colab-df-container {\n",
              "      display:flex;\n",
              "      flex-wrap:wrap;\n",
              "      gap: 12px;\n",
              "    }\n",
              "\n",
              "    .colab-df-convert {\n",
              "      background-color: #E8F0FE;\n",
              "      border: none;\n",
              "      border-radius: 50%;\n",
              "      cursor: pointer;\n",
              "      display: none;\n",
              "      fill: #1967D2;\n",
              "      height: 32px;\n",
              "      padding: 0 0 0 0;\n",
              "      width: 32px;\n",
              "    }\n",
              "\n",
              "    .colab-df-convert:hover {\n",
              "      background-color: #E2EBFA;\n",
              "      box-shadow: 0px 1px 2px rgba(60, 64, 67, 0.3), 0px 1px 3px 1px rgba(60, 64, 67, 0.15);\n",
              "      fill: #174EA6;\n",
              "    }\n",
              "\n",
              "    [theme=dark] .colab-df-convert {\n",
              "      background-color: #3B4455;\n",
              "      fill: #D2E3FC;\n",
              "    }\n",
              "\n",
              "    [theme=dark] .colab-df-convert:hover {\n",
              "      background-color: #434B5C;\n",
              "      box-shadow: 0px 1px 3px 1px rgba(0, 0, 0, 0.15);\n",
              "      filter: drop-shadow(0px 1px 2px rgba(0, 0, 0, 0.3));\n",
              "      fill: #FFFFFF;\n",
              "    }\n",
              "  </style>\n",
              "\n",
              "      <script>\n",
              "        const buttonEl =\n",
              "          document.querySelector('#df-fe65dee6-b9e2-4702-9305-4b5fc13314b9 button.colab-df-convert');\n",
              "        buttonEl.style.display =\n",
              "          google.colab.kernel.accessAllowed ? 'block' : 'none';\n",
              "\n",
              "        async function convertToInteractive(key) {\n",
              "          const element = document.querySelector('#df-fe65dee6-b9e2-4702-9305-4b5fc13314b9');\n",
              "          const dataTable =\n",
              "            await google.colab.kernel.invokeFunction('convertToInteractive',\n",
              "                                                     [key], {});\n",
              "          if (!dataTable) return;\n",
              "\n",
              "          const docLinkHtml = 'Like what you see? Visit the ' +\n",
              "            '<a target=\"_blank\" href=https://colab.research.google.com/notebooks/data_table.ipynb>data table notebook</a>'\n",
              "            + ' to learn more about interactive tables.';\n",
              "          element.innerHTML = '';\n",
              "          dataTable['output_type'] = 'display_data';\n",
              "          await google.colab.output.renderOutput(dataTable, element);\n",
              "          const docLink = document.createElement('div');\n",
              "          docLink.innerHTML = docLinkHtml;\n",
              "          element.appendChild(docLink);\n",
              "        }\n",
              "      </script>\n",
              "    </div>\n",
              "  </div>\n",
              "  "
            ]
          },
          "metadata": {},
          "execution_count": 37
        }
      ]
    },
    {
      "cell_type": "code",
      "source": [
        "err_df.groupby(['true_values']).describe()"
      ],
      "metadata": {
        "id": "EADyNFo80UR0",
        "outputId": "0fbb1e90-2be2-4642-af82-645681053f9b",
        "colab": {
          "base_uri": "https://localhost:8080/",
          "height": 175
        }
      },
      "execution_count": 38,
      "outputs": [
        {
          "output_type": "execute_result",
          "data": {
            "text/plain": [
              "               error                                                   \n",
              "               count       mean        std  min  25%   50%   75%    max\n",
              "true_values                                                            \n",
              "0            93838.0   0.998167   3.129697  0.0  0.0   1.0   1.0  276.0\n",
              "1              149.0  33.778523  43.922666  0.0  5.0  12.0  64.0  264.0"
            ],
            "text/html": [
              "\n",
              "  <div id=\"df-6666b4d2-9074-4c51-a3ea-45d1f4f425e8\">\n",
              "    <div class=\"colab-df-container\">\n",
              "      <div>\n",
              "<style scoped>\n",
              "    .dataframe tbody tr th:only-of-type {\n",
              "        vertical-align: middle;\n",
              "    }\n",
              "\n",
              "    .dataframe tbody tr th {\n",
              "        vertical-align: top;\n",
              "    }\n",
              "\n",
              "    .dataframe thead tr th {\n",
              "        text-align: left;\n",
              "    }\n",
              "\n",
              "    .dataframe thead tr:last-of-type th {\n",
              "        text-align: right;\n",
              "    }\n",
              "</style>\n",
              "<table border=\"1\" class=\"dataframe\">\n",
              "  <thead>\n",
              "    <tr>\n",
              "      <th></th>\n",
              "      <th colspan=\"8\" halign=\"left\">error</th>\n",
              "    </tr>\n",
              "    <tr>\n",
              "      <th></th>\n",
              "      <th>count</th>\n",
              "      <th>mean</th>\n",
              "      <th>std</th>\n",
              "      <th>min</th>\n",
              "      <th>25%</th>\n",
              "      <th>50%</th>\n",
              "      <th>75%</th>\n",
              "      <th>max</th>\n",
              "    </tr>\n",
              "    <tr>\n",
              "      <th>true_values</th>\n",
              "      <th></th>\n",
              "      <th></th>\n",
              "      <th></th>\n",
              "      <th></th>\n",
              "      <th></th>\n",
              "      <th></th>\n",
              "      <th></th>\n",
              "      <th></th>\n",
              "    </tr>\n",
              "  </thead>\n",
              "  <tbody>\n",
              "    <tr>\n",
              "      <th>0</th>\n",
              "      <td>93838.0</td>\n",
              "      <td>0.998167</td>\n",
              "      <td>3.129697</td>\n",
              "      <td>0.0</td>\n",
              "      <td>0.0</td>\n",
              "      <td>1.0</td>\n",
              "      <td>1.0</td>\n",
              "      <td>276.0</td>\n",
              "    </tr>\n",
              "    <tr>\n",
              "      <th>1</th>\n",
              "      <td>149.0</td>\n",
              "      <td>33.778523</td>\n",
              "      <td>43.922666</td>\n",
              "      <td>0.0</td>\n",
              "      <td>5.0</td>\n",
              "      <td>12.0</td>\n",
              "      <td>64.0</td>\n",
              "      <td>264.0</td>\n",
              "    </tr>\n",
              "  </tbody>\n",
              "</table>\n",
              "</div>\n",
              "      <button class=\"colab-df-convert\" onclick=\"convertToInteractive('df-6666b4d2-9074-4c51-a3ea-45d1f4f425e8')\"\n",
              "              title=\"Convert this dataframe to an interactive table.\"\n",
              "              style=\"display:none;\">\n",
              "        \n",
              "  <svg xmlns=\"http://www.w3.org/2000/svg\" height=\"24px\"viewBox=\"0 0 24 24\"\n",
              "       width=\"24px\">\n",
              "    <path d=\"M0 0h24v24H0V0z\" fill=\"none\"/>\n",
              "    <path d=\"M18.56 5.44l.94 2.06.94-2.06 2.06-.94-2.06-.94-.94-2.06-.94 2.06-2.06.94zm-11 1L8.5 8.5l.94-2.06 2.06-.94-2.06-.94L8.5 2.5l-.94 2.06-2.06.94zm10 10l.94 2.06.94-2.06 2.06-.94-2.06-.94-.94-2.06-.94 2.06-2.06.94z\"/><path d=\"M17.41 7.96l-1.37-1.37c-.4-.4-.92-.59-1.43-.59-.52 0-1.04.2-1.43.59L10.3 9.45l-7.72 7.72c-.78.78-.78 2.05 0 2.83L4 21.41c.39.39.9.59 1.41.59.51 0 1.02-.2 1.41-.59l7.78-7.78 2.81-2.81c.8-.78.8-2.07 0-2.86zM5.41 20L4 18.59l7.72-7.72 1.47 1.35L5.41 20z\"/>\n",
              "  </svg>\n",
              "      </button>\n",
              "      \n",
              "  <style>\n",
              "    .colab-df-container {\n",
              "      display:flex;\n",
              "      flex-wrap:wrap;\n",
              "      gap: 12px;\n",
              "    }\n",
              "\n",
              "    .colab-df-convert {\n",
              "      background-color: #E8F0FE;\n",
              "      border: none;\n",
              "      border-radius: 50%;\n",
              "      cursor: pointer;\n",
              "      display: none;\n",
              "      fill: #1967D2;\n",
              "      height: 32px;\n",
              "      padding: 0 0 0 0;\n",
              "      width: 32px;\n",
              "    }\n",
              "\n",
              "    .colab-df-convert:hover {\n",
              "      background-color: #E2EBFA;\n",
              "      box-shadow: 0px 1px 2px rgba(60, 64, 67, 0.3), 0px 1px 3px 1px rgba(60, 64, 67, 0.15);\n",
              "      fill: #174EA6;\n",
              "    }\n",
              "\n",
              "    [theme=dark] .colab-df-convert {\n",
              "      background-color: #3B4455;\n",
              "      fill: #D2E3FC;\n",
              "    }\n",
              "\n",
              "    [theme=dark] .colab-df-convert:hover {\n",
              "      background-color: #434B5C;\n",
              "      box-shadow: 0px 1px 3px 1px rgba(0, 0, 0, 0.15);\n",
              "      filter: drop-shadow(0px 1px 2px rgba(0, 0, 0, 0.3));\n",
              "      fill: #FFFFFF;\n",
              "    }\n",
              "  </style>\n",
              "\n",
              "      <script>\n",
              "        const buttonEl =\n",
              "          document.querySelector('#df-6666b4d2-9074-4c51-a3ea-45d1f4f425e8 button.colab-df-convert');\n",
              "        buttonEl.style.display =\n",
              "          google.colab.kernel.accessAllowed ? 'block' : 'none';\n",
              "\n",
              "        async function convertToInteractive(key) {\n",
              "          const element = document.querySelector('#df-6666b4d2-9074-4c51-a3ea-45d1f4f425e8');\n",
              "          const dataTable =\n",
              "            await google.colab.kernel.invokeFunction('convertToInteractive',\n",
              "                                                     [key], {});\n",
              "          if (!dataTable) return;\n",
              "\n",
              "          const docLinkHtml = 'Like what you see? Visit the ' +\n",
              "            '<a target=\"_blank\" href=https://colab.research.google.com/notebooks/data_table.ipynb>data table notebook</a>'\n",
              "            + ' to learn more about interactive tables.';\n",
              "          element.innerHTML = '';\n",
              "          dataTable['output_type'] = 'display_data';\n",
              "          await google.colab.output.renderOutput(dataTable, element);\n",
              "          const docLink = document.createElement('div');\n",
              "          docLink.innerHTML = docLinkHtml;\n",
              "          element.appendChild(docLink);\n",
              "        }\n",
              "      </script>\n",
              "    </div>\n",
              "  </div>\n",
              "  "
            ]
          },
          "metadata": {},
          "execution_count": 38
        }
      ]
    },
    {
      "cell_type": "code",
      "source": [
        "plt.figure(figsize=(10,7))\n",
        "sns.distplot(err_df[err_df['true_values'] == 0]['error'],bins=5,label='Not Froud')\n",
        "sns.distplot(err_df[err_df['true_values'] == 1]['error'],bins=5,label='Froud')\n",
        "plt.legend()\n",
        "plt.show()"
      ],
      "metadata": {
        "id": "05xd-4-v16L2",
        "outputId": "619d038b-ce20-4b05-c015-51f077043ef9",
        "colab": {
          "base_uri": "https://localhost:8080/",
          "height": 531
        }
      },
      "execution_count": 39,
      "outputs": [
        {
          "output_type": "stream",
          "name": "stderr",
          "text": [
            "/usr/local/lib/python3.7/dist-packages/seaborn/distributions.py:2619: FutureWarning: `distplot` is a deprecated function and will be removed in a future version. Please adapt your code to use either `displot` (a figure-level function with similar flexibility) or `histplot` (an axes-level function for histograms).\n",
            "  warnings.warn(msg, FutureWarning)\n",
            "/usr/local/lib/python3.7/dist-packages/seaborn/distributions.py:2619: FutureWarning: `distplot` is a deprecated function and will be removed in a future version. Please adapt your code to use either `displot` (a figure-level function with similar flexibility) or `histplot` (an axes-level function for histograms).\n",
            "  warnings.warn(msg, FutureWarning)\n"
          ]
        },
        {
          "output_type": "display_data",
          "data": {
            "text/plain": [
              "<Figure size 720x504 with 1 Axes>"
            ],
            "image/png": "[encoded data removed]"
          },
          "metadata": {
            "needs_background": "light"
          }
        }
      ]
    },
    {
      "cell_type": "code",
      "source": [
        "from sklearn.metrics import (confusion_matrix,precision_recall_curve,auc,roc_curve,recall_score,classification_report,f1_score,precision_recall_fscore_support)\n",
        "\n",
        "treshhold = 1.4\n",
        "fpr, tpr, thres = roc_curve(err_df['true_values'], err_df['error'])\n",
        "plt.plot(fpr, tpr, label = 'AUC') \n",
        "plt.plot([0,1], [0,1], ':', label = 'Random') \n",
        "plt.legend() \n",
        "plt.grid() \n",
        "plt.ylabel(\"TPR\") \n",
        "plt.xlabel(\"FPR\") \n",
        "plt.title('ROC') \n",
        "plt.show()"
      ],
      "metadata": {
        "id": "7n4ZLoWU2Unv",
        "outputId": "d5e4ab85-4cc6-481b-8f98-3819b8dd6f79",
        "colab": {
          "base_uri": "https://localhost:8080/",
          "height": 295
        }
      },
      "execution_count": 40,
      "outputs": [
        {
          "output_type": "display_data",
          "data": {
            "text/plain": [
              "<Figure size 432x288 with 1 Axes>"
            ],
            "image/png": "[encoded data removed]"
          },
          "metadata": {
            "needs_background": "light"
          }
        }
      ]
    },
    {
      "cell_type": "code",
      "source": [
        "## round err_df data\n",
        "## treshhodl = 2 \n",
        "y_pred = [1 if i > 2 else 0 for i in err_df['error'].values]\n",
        "\n",
        "cm = confusion_matrix(err_df['true_values'],y_pred)\n",
        "print(cm)\n",
        "\n",
        "sns.heatmap(cm,annot=True,fmt='d',yticklabels=['Not Froud','Froud'],xticklabels=['Not Froud','Froud'])"
      ],
      "metadata": {
        "id": "ycnYppXV2sxA",
        "outputId": "eda311e4-f846-4bc7-9355-5015155b5e1c",
        "colab": {
          "base_uri": "https://localhost:8080/",
          "height": 317
        }
      },
      "execution_count": 43,
      "outputs": [
        {
          "output_type": "stream",
          "name": "stdout",
          "text": [
            "[[90030  3808]\n",
            " [   20   129]]\n"
          ]
        },
        {
          "output_type": "execute_result",
          "data": {
            "text/plain": [
              "<matplotlib.axes._subplots.AxesSubplot at 0x7f8aec07b9d0>"
            ]
          },
          "metadata": {},
          "execution_count": 43
        },
        {
          "output_type": "display_data",
          "data": {
            "text/plain": [
              "<Figure size 432x288 with 2 Axes>"
            ],
            "image/png": "[encoded data removed]"
          },
          "metadata": {
            "needs_background": "light"
          }
        }
      ]
    },
    {
      "cell_type": "code",
      "source": [
        "from sklearn.metrics import roc_auc_score\n",
        "print(\"Area Under ROC :\",roc_auc_score(err_df['true_values'],y_pred))"
      ],
      "metadata": {
        "id": "SQRphaPD596O",
        "outputId": "71aa0097-19e9-4d3d-eb6e-b09675964326",
        "colab": {
          "base_uri": "https://localhost:8080/"
        }
      },
      "execution_count": 46,
      "outputs": [
        {
          "output_type": "stream",
          "name": "stdout",
          "text": [
            "Area Under ROC : 0.9125956185234843\n"
          ]
        }
      ]
    },
    {
      "cell_type": "code",
      "source": [],
      "metadata": {
        "id": "qWlWQ_jz6U73"
      },
      "execution_count": null,
      "outputs": []
    }
  ]
}